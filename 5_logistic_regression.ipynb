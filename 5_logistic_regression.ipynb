{
  "nbformat": 4,
  "nbformat_minor": 0,
  "metadata": {
    "colab": {
      "provenance": [],
      "authorship_tag": "ABX9TyM7MLL9HHaQxU+FT0i+WDBR",
      "include_colab_link": true
    },
    "kernelspec": {
      "name": "python3",
      "display_name": "Python 3"
    },
    "language_info": {
      "name": "python"
    }
  },
  "cells": [
    {
      "cell_type": "markdown",
      "metadata": {
        "id": "view-in-github",
        "colab_type": "text"
      },
      "source": [
        "<a href=\"https://colab.research.google.com/github/rj7shakya/python_ml/blob/main/5_logistic_regression.ipynb\" target=\"_parent\"><img src=\"https://colab.research.google.com/assets/colab-badge.svg\" alt=\"Open In Colab\"/></a>"
      ]
    },
    {
      "cell_type": "code",
      "execution_count": 24,
      "metadata": {
        "id": "ukF2hfXRcRoN"
      },
      "outputs": [],
      "source": [
        "import numpy as np\n",
        "import matplotlib.pyplot as plt\n",
        "import pandas as pd"
      ]
    },
    {
      "cell_type": "markdown",
      "source": [
        "# data preparation using normal distribution"
      ],
      "metadata": {
        "id": "LttPKcKqc8Nr"
      }
    },
    {
      "cell_type": "code",
      "source": [
        "mean_01 = np.array([1,0.5])\n",
        "cov_01 = np.array([[1,0.1],[0.1,1.2]])\n",
        "\n",
        "mean_02 = np.array([4,5])\n",
        "cov_02 = np.array([[1.21,0.1],[0.1,1.3]])\n",
        "\n",
        "\n",
        "# Normal Distribution\n",
        "dist_01 = np.random.multivariate_normal(mean_01,cov_01,500)\n",
        "dist_02 = np.random.multivariate_normal(mean_02,cov_02,500)\n",
        "\n",
        "print(dist_01.shape)\n",
        "print(dist_02.shape)"
      ],
      "metadata": {
        "colab": {
          "base_uri": "https://localhost:8080/"
        },
        "id": "cdO8gXf9c3Hd",
        "outputId": "480e962c-cea3-4d38-e8cf-da0efa1b4646"
      },
      "execution_count": 25,
      "outputs": [
        {
          "output_type": "stream",
          "name": "stdout",
          "text": [
            "(500, 2)\n",
            "(500, 2)\n"
          ]
        }
      ]
    },
    {
      "cell_type": "code",
      "source": [
        "plt.figure(0)\n",
        "\n",
        "plt.scatter(dist_01[:,0],dist_01[:,1],label='Class 0')\n",
        "plt.scatter(dist_02[:,0],dist_02[:,1],color='r',marker='^',label='Class 1')\n",
        "plt.xlim(-5,10)\n",
        "plt.ylim(-5,10)\n",
        "plt.xlabel('x1')\n",
        "plt.ylabel('x2')\n",
        "plt.legend()\n",
        "plt.show()"
      ],
      "metadata": {
        "colab": {
          "base_uri": "https://localhost:8080/",
          "height": 283
        },
        "id": "7NnqxUgVdCuJ",
        "outputId": "7d889678-c8ff-4f7d-c537-785d826bb858"
      },
      "execution_count": 26,
      "outputs": [
        {
          "output_type": "display_data",
          "data": {
            "text/plain": [
              "<Figure size 432x288 with 1 Axes>"
            ],
            "image/png": "[encoded data removed]"
          },
          "metadata": {
            "needs_background": "light"
          }
        }
      ]
    },
    {
      "cell_type": "code",
      "source": [
        "data = np.zeros((1000,3))\n",
        "print(data.shape)\n",
        "data"
      ],
      "metadata": {
        "colab": {
          "base_uri": "https://localhost:8080/"
        },
        "id": "dD6Pd3KLdEsx",
        "outputId": "df0c1c7c-4a3a-4cf7-b8b4-a7193b1daf5e"
      },
      "execution_count": 27,
      "outputs": [
        {
          "output_type": "stream",
          "name": "stdout",
          "text": [
            "(1000, 3)\n"
          ]
        },
        {
          "output_type": "execute_result",
          "data": {
            "text/plain": [
              "array([[0., 0., 0.],\n",
              "       [0., 0., 0.],\n",
              "       [0., 0., 0.],\n",
              "       ...,\n",
              "       [0., 0., 0.],\n",
              "       [0., 0., 0.],\n",
              "       [0., 0., 0.]])"
            ]
          },
          "metadata": {},
          "execution_count": 27
        }
      ]
    },
    {
      "cell_type": "code",
      "source": [
        "data[:500,:2] = dist_01\n",
        "data[500:,:2] = dist_02\n",
        "data[500:,-1] = 1.0"
      ],
      "metadata": {
        "id": "PkXxFSbfdG1k"
      },
      "execution_count": 28,
      "outputs": []
    },
    {
      "cell_type": "code",
      "source": [
        "np.random.shuffle(data)\n",
        "print(data[:10])"
      ],
      "metadata": {
        "colab": {
          "base_uri": "https://localhost:8080/"
        },
        "id": "ubtYgzAvgEB_",
        "outputId": "c6f23686-5c55-482a-8952-1bb0bdaeea9a"
      },
      "execution_count": 35,
      "outputs": [
        {
          "output_type": "stream",
          "name": "stdout",
          "text": [
            "[[ 4.64702363  5.49334277  1.        ]\n",
            " [ 0.78149748 -0.54523628  0.        ]\n",
            " [ 0.48463043  1.02844023  0.        ]\n",
            " [ 5.39034648  5.57873802  1.        ]\n",
            " [ 3.17322701  2.66958265  1.        ]\n",
            " [ 3.70856731  4.43826313  1.        ]\n",
            " [-0.59303589 -0.51103641  0.        ]\n",
            " [ 1.68859628  0.45232328  0.        ]\n",
            " [ 0.87896908  1.389041    0.        ]\n",
            " [ 2.2237132   0.05157381  0.        ]]\n"
          ]
        }
      ]
    },
    {
      "cell_type": "code",
      "source": [
        "split = int(0.8*data.shape[0])"
      ],
      "metadata": {
        "id": "SiUWfe6KdQQ0"
      },
      "execution_count": 36,
      "outputs": []
    },
    {
      "cell_type": "code",
      "source": [
        "X_train = data[:split,:-1]\n",
        "X_test = data[split:,:-1]\n",
        "\n",
        "Y_train = data[:split,-1]\n",
        "Y_test  = data[split:,-1]\n",
        "\n",
        "print(X_train.shape,X_test.shape)\n",
        "print(Y_train.shape,Y_test.shape)"
      ],
      "metadata": {
        "colab": {
          "base_uri": "https://localhost:8080/"
        },
        "id": "ycOcnFVndY9w",
        "outputId": "c1d1a89a-09ae-4d23-d15f-582fbe3515e0"
      },
      "execution_count": 37,
      "outputs": [
        {
          "output_type": "stream",
          "name": "stdout",
          "text": [
            "(800, 2) (200, 2)\n",
            "(800,) (200,)\n"
          ]
        }
      ]
    },
    {
      "cell_type": "markdown",
      "source": [
        "# Logistic Regression Functions"
      ],
      "metadata": {
        "id": "61U0UDzOddS5"
      }
    },
    {
      "cell_type": "code",
      "source": [
        "def sigmoid(z):\n",
        "    return 1.0/(1.0 + np.exp(-1.0*z))"
      ],
      "metadata": {
        "id": "CgC86tnQdo0J"
      },
      "execution_count": 38,
      "outputs": []
    },
    {
      "cell_type": "code",
      "source": [
        "def hypothesis(x,w,b):\n",
        "    '''accepts input vector x, input weight vector w and bias b'''\n",
        "    \n",
        "    h = np.dot(x,w) + b\n",
        "    return sigmoid(h)"
      ],
      "metadata": {
        "id": "0i7KIrcqdaps"
      },
      "execution_count": 39,
      "outputs": []
    },
    {
      "cell_type": "code",
      "source": [
        "def error(y_true,x,w,b):\n",
        "    m = x.shape[0]\n",
        "    err = 0.0\n",
        "    \n",
        "    for i in range(m):\n",
        "        hx = hypothesis(x[i],w,b) \n",
        "        err += y_true[i]*np.log2(hx) + (1-y_true[i])*np.log2(1-hx)\n",
        "    \n",
        "    return -err/m"
      ],
      "metadata": {
        "id": "p6TYoTPCdkBp"
      },
      "execution_count": 40,
      "outputs": []
    },
    {
      "cell_type": "code",
      "source": [
        "def get_grads(y_true,x,w,b):  \n",
        "    grad_w = np.zeros(w.shape)\n",
        "    grad_b = 0.0\n",
        "    m = x.shape[0]\n",
        "    \n",
        "    for i in range(m):\n",
        "        hx = hypothesis(x[i],w,b)\n",
        "        \n",
        "        grad_w += (y_true[i] - hx)*x[i]\n",
        "        grad_b +=  (y_true[i]-hx)\n",
        "    \n",
        "    grad_w /= m\n",
        "    grad_b /= m\n",
        "    \n",
        "    return [grad_w,grad_b]"
      ],
      "metadata": {
        "id": "c1E4giEednYu"
      },
      "execution_count": 41,
      "outputs": []
    },
    {
      "cell_type": "code",
      "source": [
        "def grad_descent(x,y_true,w,b,learning_rate=0.1):\n",
        "    err = error(y_true,x,w,b)\n",
        "    [grad_w,grad_b] = get_grads(y_true,x,w,b)\n",
        "    \n",
        "    w = w + learning_rate*grad_w\n",
        "    b = b + learning_rate*grad_b\n",
        "    \n",
        "    return err,w,b"
      ],
      "metadata": {
        "id": "F3K-L2c3d6rC"
      },
      "execution_count": 42,
      "outputs": []
    },
    {
      "cell_type": "code",
      "source": [
        "def predict(x,w,b):\n",
        "    confidence = hypothesis(x,w,b)\n",
        "    if confidence<0.5:\n",
        "        return 0\n",
        "    else:\n",
        "        return 1"
      ],
      "metadata": {
        "id": "GtE0wPWHeE8E"
      },
      "execution_count": 43,
      "outputs": []
    },
    {
      "cell_type": "code",
      "source": [
        "def get_acc(x_tst,y_tst,w,b):\n",
        "    y_pred = []\n",
        "    \n",
        "    for i in range(y_tst.shape[0]):\n",
        "        p = predict(x_tst[i],w,b)\n",
        "        y_pred.append(p)\n",
        "        \n",
        "    y_pred = np.array(y_pred)\n",
        "    return  float((y_pred==y_tst).sum())/y_tst.shape[0]"
      ],
      "metadata": {
        "id": "3N-PbE3FeIuh"
      },
      "execution_count": 44,
      "outputs": []
    },
    {
      "cell_type": "code",
      "source": [
        "loss = []\n",
        "acc = []\n",
        "\n",
        "W = 2*np.random.random((X_train.shape[1],))\n",
        "b = 5*np.random.random()"
      ],
      "metadata": {
        "id": "sVCcMngSeN5E"
      },
      "execution_count": 45,
      "outputs": []
    },
    {
      "cell_type": "code",
      "source": [
        "for i in range(1000):\n",
        "    l,W,b = grad_descent(X_train,Y_train,W,b,learning_rate=0.1)\n",
        "    acc.append(get_acc(X_test,Y_test,W,b))\n",
        "    loss.append(l)"
      ],
      "metadata": {
        "id": "-LyMgyuXeRyl"
      },
      "execution_count": 46,
      "outputs": []
    },
    {
      "cell_type": "code",
      "source": [
        "plt.plot(loss)\n",
        "plt.ylabel(\"Negative of Log Likelihood\")\n",
        "plt.xlabel(\"Time\")\n",
        "plt.show()"
      ],
      "metadata": {
        "colab": {
          "base_uri": "https://localhost:8080/",
          "height": 281
        },
        "id": "Seu9O-KqeUjl",
        "outputId": "92d9bdde-790a-43a1-ae40-53ac1829984b"
      },
      "execution_count": 47,
      "outputs": [
        {
          "output_type": "display_data",
          "data": {
            "text/plain": [
              "<Figure size 432x288 with 1 Axes>"
            ],
            "image/png": "[encoded data removed]"
          },
          "metadata": {
            "needs_background": "light"
          }
        }
      ]
    },
    {
      "cell_type": "code",
      "source": [
        "plt.plot(acc)\n",
        "plt.show()\n",
        "print(acc[-1])"
      ],
      "metadata": {
        "colab": {
          "base_uri": "https://localhost:8080/",
          "height": 283
        },
        "id": "rumDLOIfeW1l",
        "outputId": "96ff4f4c-be2f-468c-fce7-e1e10669ccf0"
      },
      "execution_count": 48,
      "outputs": [
        {
          "output_type": "display_data",
          "data": {
            "text/plain": [
              "<Figure size 432x288 with 1 Axes>"
            ],
            "image/png": "[encoded data removed]"
          },
          "metadata": {
            "needs_background": "light"
          }
        },
        {
          "output_type": "stream",
          "name": "stdout",
          "text": [
            "1.0\n"
          ]
        }
      ]
    },
    {
      "cell_type": "code",
      "source": [
        "plt.figure(0)\n",
        "\n",
        "plt.scatter(dist_01[:,0],dist_01[:,1],label='Class 0')\n",
        "plt.scatter(dist_02[:,0],dist_02[:,1],color='r',marker='^',label='Class 1')\n",
        "plt.xlim(-5,10)\n",
        "plt.ylim(-5,10)\n",
        "plt.xlabel('x1')\n",
        "plt.ylabel('x2')\n",
        "\n",
        "x = np.linspace(-4,8,10)\n",
        "y = -(W[0]*x + b)/W[1]\n",
        "plt.plot(x,y,color='k')\n",
        "\n",
        "plt.legend()\n",
        "plt.show()"
      ],
      "metadata": {
        "colab": {
          "base_uri": "https://localhost:8080/",
          "height": 283
        },
        "id": "7OV1QYQbeajw",
        "outputId": "d0eef0b8-1785-4a5a-cda5-ee1a1b186ee9"
      },
      "execution_count": 49,
      "outputs": [
        {
          "output_type": "display_data",
          "data": {
            "text/plain": [
              "<Figure size 432x288 with 1 Axes>"
            ],
            "image/png": "[encoded data removed]"
          },
          "metadata": {
            "needs_background": "light"
          }
        }
      ]
    },
    {
      "cell_type": "code",
      "source": [
        "print(W)\n",
        "print(b)"
      ],
      "metadata": {
        "colab": {
          "base_uri": "https://localhost:8080/"
        },
        "id": "YrstF2FZehql",
        "outputId": "d2aa948b-3aec-4323-87aa-c0a863a7b978"
      },
      "execution_count": 50,
      "outputs": [
        {
          "output_type": "stream",
          "name": "stdout",
          "text": [
            "[0.59980106 1.34760761]\n",
            "-4.648184615018576\n"
          ]
        }
      ]
    },
    {
      "cell_type": "markdown",
      "source": [
        "# logistic using sklearn"
      ],
      "metadata": {
        "id": "2RUHiXj5fEho"
      }
    },
    {
      "cell_type": "code",
      "source": [
        "from sklearn.linear_model import LogisticRegression"
      ],
      "metadata": {
        "id": "MFTcQI4vek0k"
      },
      "execution_count": 51,
      "outputs": []
    },
    {
      "cell_type": "code",
      "source": [
        "model = LogisticRegression()"
      ],
      "metadata": {
        "id": "iC8nsucIhUaR"
      },
      "execution_count": 52,
      "outputs": []
    },
    {
      "cell_type": "code",
      "source": [
        "model.fit(X_train,Y_train)"
      ],
      "metadata": {
        "colab": {
          "base_uri": "https://localhost:8080/"
        },
        "id": "_IiKyUWqhYFT",
        "outputId": "a7f0b3f3-c4b1-4f98-d155-8e0746129c29"
      },
      "execution_count": 53,
      "outputs": [
        {
          "output_type": "execute_result",
          "data": {
            "text/plain": [
              "LogisticRegression()"
            ]
          },
          "metadata": {},
          "execution_count": 53
        }
      ]
    },
    {
      "cell_type": "code",
      "source": [
        "print(model.intercept_, model.coef_)"
      ],
      "metadata": {
        "colab": {
          "base_uri": "https://localhost:8080/"
        },
        "id": "1N8kA7Z-hedP",
        "outputId": "1040fcbd-ba85-450d-fca3-88e54b589431"
      },
      "execution_count": 54,
      "outputs": [
        {
          "output_type": "stream",
          "name": "stdout",
          "text": [
            "[-12.75121428] [[2.18823443 2.72897382]]\n"
          ]
        }
      ]
    },
    {
      "cell_type": "code",
      "source": [
        "model.score(X_train, Y_train)"
      ],
      "metadata": {
        "colab": {
          "base_uri": "https://localhost:8080/"
        },
        "id": "ecirmD0jhlX9",
        "outputId": "402c7b26-034b-4966-bed7-edf83cbbe208"
      },
      "execution_count": 55,
      "outputs": [
        {
          "output_type": "execute_result",
          "data": {
            "text/plain": [
              "0.995"
            ]
          },
          "metadata": {},
          "execution_count": 55
        }
      ]
    },
    {
      "cell_type": "code",
      "source": [],
      "metadata": {
        "id": "-CNqOLLphsar"
      },
      "execution_count": null,
      "outputs": []
    }
  ]
}