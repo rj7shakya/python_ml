{
  "nbformat": 4,
  "nbformat_minor": 0,
  "metadata": {
    "colab": {
      "provenance": [],
      "authorship_tag": "ABX9TyNWHlQ4Qsv9e2n2uXwnElnX",
      "include_colab_link": true
    },
    "kernelspec": {
      "name": "python3",
      "display_name": "Python 3"
    },
    "language_info": {
      "name": "python"
    }
  },
  "cells": [
    {
      "cell_type": "markdown",
      "metadata": {
        "id": "view-in-github",
        "colab_type": "text"
      },
      "source": [
        "<a href=\"https://colab.research.google.com/github/rj7shakya/python_ml/blob/main/2_linear_regression_single.ipynb\" target=\"_parent\"><img src=\"https://colab.research.google.com/assets/colab-badge.svg\" alt=\"Open In Colab\"/></a>"
      ]
    },
    {
      "cell_type": "code",
      "execution_count": 1,
      "metadata": {
        "id": "l-PvR72Fs2ub"
      },
      "outputs": [],
      "source": [
        "import numpy as np\n",
        "import matplotlib.pyplot as plt\n",
        "import pandas as pd"
      ]
    },
    {
      "cell_type": "code",
      "source": [
        "# Load\n",
        "X = pd.read_csv('https://raw.githubusercontent.com/coding-blocks-archives/machine-learning-online-2018/master/3.%20Linear%20Regression/Linear%20Regression/Training%20Data/Linear_X_Train.csv')\n",
        "y = pd.read_csv('https://raw.githubusercontent.com/coding-blocks-archives/machine-learning-online-2018/master/3.%20Linear%20Regression/Linear%20Regression/Training%20Data/Linear_Y_Train.csv')\n",
        "\n",
        "# Convert X,Y to Numpy arrays\n",
        "X = X.values\n",
        "y = y.values\n"
      ],
      "metadata": {
        "id": "SXsAecats-_S"
      },
      "execution_count": 83,
      "outputs": []
    },
    {
      "cell_type": "code",
      "source": [
        "plt.style.use('seaborn')\n",
        "plt.scatter(X,y,color='orange')\n",
        "plt.title(\"linear regression\")\n",
        "plt.xlabel(\"x\")\n",
        "plt.ylabel(\"f(x)\")\n",
        "plt.show()"
      ],
      "metadata": {
        "colab": {
          "base_uri": "https://localhost:8080/",
          "height": 376
        },
        "id": "AxzjtOYqtDb6",
        "outputId": "28b3e7cf-0761-4fb4-f0f5-359ba8161a39"
      },
      "execution_count": 42,
      "outputs": [
        {
          "output_type": "display_data",
          "data": {
            "text/plain": [
              "<Figure size 576x396 with 1 Axes>"
            ],
            "image/png": "[encoded data removed]"
          },
          "metadata": {}
        }
      ]
    },
    {
      "cell_type": "code",
      "source": [
        "# theta0 + theta1 * x\n",
        "\n",
        "def hypothesis(x,theta):\n",
        "    y_ = theta[0] + theta[1]*x\n",
        "    return y_ "
      ],
      "metadata": {
        "id": "zwRX4KoYtQhQ"
      },
      "execution_count": 63,
      "outputs": []
    },
    {
      "cell_type": "code",
      "source": [
        "# dJtheta/dtheta => lr =1\n",
        "def gradient(X,Y,theta):\n",
        "    m = X.shape[0]\n",
        "    grad = np.zeros((2,))\n",
        "    for i in range(m):\n",
        "        x = X[i]\n",
        "        y_ = hypothesis(x,theta)\n",
        "        y = Y[i]\n",
        "        grad[0] += (y_ - y)\n",
        "        grad[1] += (y_ - y)*x\n",
        "    return grad/m"
      ],
      "metadata": {
        "id": "BzjxRAgstb0c"
      },
      "execution_count": 64,
      "outputs": []
    },
    {
      "cell_type": "code",
      "source": [
        "# put value of theta in jtheta\n",
        "\n",
        "def error(X,Y,theta):\n",
        "    m = X.shape[0]\n",
        "    total_error = 0.0\n",
        "    for i in range(m):\n",
        "        y_ = hypothesis(X[i],theta)\n",
        "        total_error += (y_ - Y[i])**2\n",
        "        \n",
        "    return (total_error/m)"
      ],
      "metadata": {
        "id": "YlrnvxTquHE1"
      },
      "execution_count": 65,
      "outputs": []
    },
    {
      "cell_type": "code",
      "source": [
        "def gradientDescent(X,Y,max_steps=100,learning_rate =0.1):\n",
        "    \n",
        "    theta = np.zeros((2,))\n",
        "    error_list = []\n",
        "    theta_list = []\n",
        "    \n",
        "   \n",
        "    for i in range(max_steps):\n",
        "        \n",
        "        # Compute grad\n",
        "        grad = gradient(X,Y,theta)\n",
        "        e = error(X,Y,theta)[0]\n",
        "        \n",
        "        \n",
        "        #Update theta\n",
        "        theta[0] = theta[0] - learning_rate*grad[0]\n",
        "        theta[1] = theta[1] - learning_rate*grad[1]\n",
        "        # Storing the theta values during updates\n",
        "        theta_list.append((theta[0],theta[1]))\n",
        "        error_list.append(e)\n",
        "        \n",
        "    return theta,error_list,theta_list"
      ],
      "metadata": {
        "id": "t--u13DiuyXy"
      },
      "execution_count": 66,
      "outputs": []
    },
    {
      "cell_type": "code",
      "source": [
        "theta,error_list,theta_list = gradientDescent(X,y)\n"
      ],
      "metadata": {
        "id": "vxbn3-qZu-Of"
      },
      "execution_count": 84,
      "outputs": []
    },
    {
      "cell_type": "code",
      "source": [
        "plt.plot(error_list)\n",
        "plt.show()"
      ],
      "metadata": {
        "colab": {
          "base_uri": "https://localhost:8080/",
          "height": 347
        },
        "id": "LvRYl52AvKmd",
        "outputId": "87c25853-3624-4bb3-d967-3d9b28b19597"
      },
      "execution_count": 68,
      "outputs": [
        {
          "output_type": "display_data",
          "data": {
            "text/plain": [
              "<Figure size 576x396 with 1 Axes>"
            ],
            "image/png": "[encoded data removed]"
          },
          "metadata": {}
        }
      ]
    },
    {
      "cell_type": "code",
      "source": [
        "y_ = hypothesis(X,theta)"
      ],
      "metadata": {
        "id": "ze1DHQ7ZzOea"
      },
      "execution_count": 69,
      "outputs": []
    },
    {
      "cell_type": "code",
      "source": [
        "# Training + Predictions\n",
        "plt.scatter(X,y)\n",
        "plt.plot(X,y_,color='orange',label=\"Prediction\")\n",
        "plt.legend()\n",
        "plt.show()"
      ],
      "metadata": {
        "colab": {
          "base_uri": "https://localhost:8080/",
          "height": 347
        },
        "id": "SP6-7hLOzPH1",
        "outputId": "5b42c54b-e7ca-4b11-c259-17cb105e2e43"
      },
      "execution_count": 70,
      "outputs": [
        {
          "output_type": "display_data",
          "data": {
            "text/plain": [
              "<Figure size 576x396 with 1 Axes>"
            ],
            "image/png": "[encoded data removed]"
          },
          "metadata": {}
        }
      ]
    },
    {
      "cell_type": "code",
      "source": [
        "def r2_score(Y,Y_):\n",
        "    # Instead of Loop, np.sum is recommended as it is fast\n",
        "    num = np.sum((Y-Y_)**2)\n",
        "    denom = np.sum((Y- Y.mean())**2)\n",
        "    score = (1- num/denom)\n",
        "    return score*100"
      ],
      "metadata": {
        "id": "vfsGAK-Jw-oI"
      },
      "execution_count": 72,
      "outputs": []
    },
    {
      "cell_type": "code",
      "source": [
        "# Load the test data\n",
        "X_test = pd.read_csv('https://raw.githubusercontent.com/coding-blocks-archives/machine-learning-online-2018/master/3.%20Linear%20Regression/Linear%20Regression/Test%20Cases/Linear_X_Test.csv').values\n",
        "y_test = hypothesis(X_test,theta)"
      ],
      "metadata": {
        "id": "qaFwKMi9zU1t"
      },
      "execution_count": 71,
      "outputs": []
    },
    {
      "cell_type": "code",
      "source": [
        "\n",
        "r2_score(y,y_)"
      ],
      "metadata": {
        "colab": {
          "base_uri": "https://localhost:8080/"
        },
        "id": "8qRJUf3bvUDi",
        "outputId": "cf3ef035-abc6-4afc-aaad-a072c652e4e5"
      },
      "execution_count": 73,
      "outputs": [
        {
          "output_type": "execute_result",
          "data": {
            "text/plain": [
              "97.09612220841039"
            ]
          },
          "metadata": {},
          "execution_count": 73
        }
      ]
    },
    {
      "cell_type": "markdown",
      "source": [
        "# linear regression using sklearn "
      ],
      "metadata": {
        "id": "3VVLVUCzzkMM"
      }
    },
    {
      "cell_type": "code",
      "source": [
        "from sklearn.linear_model import LinearRegression"
      ],
      "metadata": {
        "id": "8nrt3UfKvcWI"
      },
      "execution_count": 74,
      "outputs": []
    },
    {
      "cell_type": "code",
      "source": [
        "model = LinearRegression()"
      ],
      "metadata": {
        "id": "wjp3aPaev6u3"
      },
      "execution_count": 75,
      "outputs": []
    },
    {
      "cell_type": "code",
      "source": [
        "model.fit(X,y)"
      ],
      "metadata": {
        "colab": {
          "base_uri": "https://localhost:8080/"
        },
        "id": "NLRCeaHj0QZ9",
        "outputId": "b5a200cf-15e5-492c-a41e-52c67fc06732"
      },
      "execution_count": 77,
      "outputs": [
        {
          "output_type": "execute_result",
          "data": {
            "text/plain": [
              "LinearRegression()"
            ]
          },
          "metadata": {},
          "execution_count": 77
        }
      ]
    },
    {
      "cell_type": "code",
      "source": [
        "output = model.predict(X_test)\n"
      ],
      "metadata": {
        "id": "RenLERgb0FZ4"
      },
      "execution_count": 80,
      "outputs": []
    },
    {
      "cell_type": "code",
      "source": [
        "bias = model.intercept_\n",
        "coeff = model.coef_\n",
        "\n",
        "bias,coeff"
      ],
      "metadata": {
        "colab": {
          "base_uri": "https://localhost:8080/"
        },
        "id": "hYMqflal0Ip4",
        "outputId": "792059ad-515f-4622-f92f-0ba00f8b9972"
      },
      "execution_count": 81,
      "outputs": [
        {
          "output_type": "execute_result",
          "data": {
            "text/plain": [
              "(array([3.72798828]), array([[80.54363185]]))"
            ]
          },
          "metadata": {},
          "execution_count": 81
        }
      ]
    },
    {
      "cell_type": "code",
      "source": [
        "model.score(X,y)"
      ],
      "metadata": {
        "colab": {
          "base_uri": "https://localhost:8080/"
        },
        "id": "ue9ho13l0V1G",
        "outputId": "57bf9ce7-6f4c-4bb2-a5de-2aeb8dff286e"
      },
      "execution_count": 82,
      "outputs": [
        {
          "output_type": "execute_result",
          "data": {
            "text/plain": [
              "0.9709612233822353"
            ]
          },
          "metadata": {},
          "execution_count": 82
        }
      ]
    },
    {
      "cell_type": "code",
      "source": [],
      "metadata": {
        "id": "s23wqCG00ajp"
      },
      "execution_count": null,
      "outputs": []
    }
  ]
}