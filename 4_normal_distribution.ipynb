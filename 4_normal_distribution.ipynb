{
  "nbformat": 4,
  "nbformat_minor": 0,
  "metadata": {
    "colab": {
      "provenance": [],
      "authorship_tag": "ABX9TyPuMj5xZ31twV8s563/dX0K",
      "include_colab_link": true
    },
    "kernelspec": {
      "name": "python3",
      "display_name": "Python 3"
    },
    "language_info": {
      "name": "python"
    }
  },
  "cells": [
    {
      "cell_type": "markdown",
      "metadata": {
        "id": "view-in-github",
        "colab_type": "text"
      },
      "source": [
        "<a href=\"https://colab.research.google.com/github/rj7shakya/python_ml/blob/main/4_normal_distribution.ipynb\" target=\"_parent\"><img src=\"https://colab.research.google.com/assets/colab-badge.svg\" alt=\"Open In Colab\"/></a>"
      ]
    },
    {
      "cell_type": "code",
      "execution_count": 1,
      "metadata": {
        "id": "q-eRR4QWaJvy"
      },
      "outputs": [],
      "source": [
        "import matplotlib.pyplot as plt\n",
        "import numpy as np"
      ]
    },
    {
      "cell_type": "code",
      "source": [
        "# Generate a Normal Distribution (1-D)\n",
        "\n",
        "u = 5\n",
        "sigma = 0.2\n",
        "# Such a distribution is also called standard normal distribution\n",
        "\n",
        "vals = u + sigma*np.random.randn(200)\n",
        "print(vals.shape)\n",
        "\n",
        "plt.hist(vals,15)\n",
        "plt.show()"
      ],
      "metadata": {
        "colab": {
          "base_uri": "https://localhost:8080/",
          "height": 283
        },
        "id": "BPwfTjpSa21b",
        "outputId": "d252cac7-924a-4632-c915-67167e18b924"
      },
      "execution_count": 6,
      "outputs": [
        {
          "output_type": "stream",
          "name": "stdout",
          "text": [
            "(200,)\n"
          ]
        },
        {
          "output_type": "display_data",
          "data": {
            "text/plain": [
              "<Figure size 432x288 with 1 Axes>"
            ],
            "image/png": "[encoded data removed]"
          },
          "metadata": {
            "needs_background": "light"
          }
        }
      ]
    },
    {
      "cell_type": "markdown",
      "source": [
        "# Multivariate Normal Distribution"
      ],
      "metadata": {
        "id": "w-uxSl8EbWdZ"
      }
    },
    {
      "cell_type": "code",
      "source": [
        "#BiVariate\n",
        "mean = np.array([0.0,0.0])\n",
        "cov = np.array([[.3,0],[0,1]])\n",
        "\n",
        "\n",
        "mean2 = np.array([5.0,6.0])\n",
        "cov2 = np.array([[1.3,0.2],[0.2,1.1]])\n",
        "\n",
        "dist = np.random.multivariate_normal(mean,cov,500)\n",
        "dist2 = np.random.multivariate_normal(mean2,cov2,500)\n",
        "print(dist.shape)\n",
        "\n",
        "plt.scatter(dist[:,0],dist[:,1])\n",
        "plt.scatter(dist2[:,0],dist2[:,1])\n",
        "plt.show()"
      ],
      "metadata": {
        "colab": {
          "base_uri": "https://localhost:8080/",
          "height": 283
        },
        "id": "DaIrJKCebVsr",
        "outputId": "7987dfc2-2dad-4889-c9a2-9ca4a0d99051"
      },
      "execution_count": 7,
      "outputs": [
        {
          "output_type": "stream",
          "name": "stdout",
          "text": [
            "(500, 2)\n"
          ]
        },
        {
          "output_type": "display_data",
          "data": {
            "text/plain": [
              "<Figure size 432x288 with 1 Axes>"
            ],
            "image/png": "[encoded data removed]"
          },
          "metadata": {
            "needs_background": "light"
          }
        }
      ]
    },
    {
      "cell_type": "code",
      "source": [
        "np.random.multivariate_normal?"
      ],
      "metadata": {
        "id": "ogRydRnBa6oY"
      },
      "execution_count": 8,
      "outputs": []
    },
    {
      "cell_type": "code",
      "source": [],
      "metadata": {
        "id": "ZfddIhzVbdQr"
      },
      "execution_count": null,
      "outputs": []
    }
  ]
}